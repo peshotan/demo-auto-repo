{
 "cells": [
  {
   "cell_type": "code",
   "execution_count": 1,
   "metadata": {},
   "outputs": [],
   "source": [
    "import pandas as pd\n",
    "import numpy as np\n",
    "from pandas_profiling import ProfileReport\n",
    "df = pd.read_csv(\"https://raw.githubusercontent.com/owid/covid-19-data/master/public/data/owid-covid-data.csv\", error_bad_lines=False)\n",
    "profile = ProfileReport(df, title='Pandas Profiling Report', explorative=True)\n",
    "profile.to_file(\"your_report.html\")"
   ]
  },
  {
   "cell_type": "code",
   "execution_count": 8,
   "metadata": {},
   "outputs": [],
   "source": []
  },
  {
   "cell_type": "code",
   "execution_count": 9,
   "metadata": {},
   "outputs": [
    {
     "name": "stdout",
     "output_type": "stream",
     "text": [
      "<class 'pandas.core.frame.DataFrame'>\n",
      "RangeIndex: 19708 entries, 0 to 19707\n",
      "Data columns (total 32 columns):\n",
      "iso_code                           19644 non-null object\n",
      "location                           19708 non-null object\n",
      "date                               19708 non-null object\n",
      "total_cases                        19708 non-null int64\n",
      "new_cases                          19708 non-null int64\n",
      "total_deaths                       19708 non-null int64\n",
      "new_deaths                         19708 non-null int64\n",
      "total_cases_per_million            19331 non-null float64\n",
      "new_cases_per_million              19331 non-null float64\n",
      "total_deaths_per_million           19331 non-null float64\n",
      "new_deaths_per_million             19331 non-null float64\n",
      "total_tests                        5287 non-null float64\n",
      "new_tests                          4699 non-null float64\n",
      "total_tests_per_thousand           5287 non-null float64\n",
      "new_tests_per_thousand             4699 non-null float64\n",
      "new_tests_smoothed                 5785 non-null float64\n",
      "new_tests_smoothed_per_thousand    5785 non-null float64\n",
      "tests_units                        6384 non-null object\n",
      "stringency_index                   15218 non-null float64\n",
      "population                         19644 non-null float64\n",
      "population_density                 18846 non-null float64\n",
      "median_age                         17941 non-null float64\n",
      "aged_65_older                      17701 non-null float64\n",
      "aged_70_older                      17851 non-null float64\n",
      "gdp_per_capita                     17698 non-null float64\n",
      "extreme_poverty                    11740 non-null float64\n",
      "cvd_death_rate                     17867 non-null float64\n",
      "diabetes_prevalence                18517 non-null float64\n",
      "female_smokers                     14587 non-null float64\n",
      "male_smokers                       14431 non-null float64\n",
      "handwashing_facilities             7766 non-null float64\n",
      "hospital_beds_per_100k             16503 non-null float64\n",
      "dtypes: float64(24), int64(4), object(4)\n",
      "memory usage: 4.8+ MB\n"
     ]
    }
   ],
   "source": [
    "df.info()"
   ]
  },
  {
   "cell_type": "code",
   "execution_count": null,
   "metadata": {},
   "outputs": [],
   "source": []
  }
 ],
 "metadata": {
  "kernelspec": {
   "display_name": "Python 3",
   "language": "python",
   "name": "python3"
  },
  "language_info": {
   "codemirror_mode": {
    "name": "ipython",
    "version": 3
   },
   "file_extension": ".py",
   "mimetype": "text/x-python",
   "name": "python",
   "nbconvert_exporter": "python",
   "pygments_lexer": "ipython3",
   "version": "3.6.5"
  }
 },
 "nbformat": 4,
 "nbformat_minor": 2
}
